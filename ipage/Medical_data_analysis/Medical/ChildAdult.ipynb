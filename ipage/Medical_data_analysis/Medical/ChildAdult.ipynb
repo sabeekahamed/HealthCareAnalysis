{
 "cells": [
  {
   "cell_type": "code",
   "execution_count": null,
   "metadata": {
    "collapsed": true
   },
   "outputs": [],
   "source": [
    "#Condition for Diagnoising a disease and results "
   ]
  },
  {
   "cell_type": "code",
   "execution_count": 4,
   "metadata": {},
   "outputs": [
    {
     "name": "stdout",
     "output_type": "stream",
     "text": [
      "Please enter your details:\n",
      "Yes means:1   and No means :0\n",
      "Enter your age:12\n",
      "Enter yor weight:21\n",
      "severe_cough(1/0)1\n",
      "Chest_pain(1/0)1\n",
      "Fever(1/0)1\n",
      "You want to take tests:sputum test,chest x-ray,genexpert test and culture test \n",
      "====================================================================================\n",
      "Enter the test results:\n",
      "sputem test:0\n",
      "chest x-ray:0\n",
      "genes:0\n",
      "Is cavitation formed?0\n",
      "Is cd4+ counts less than 100?0\n",
      "HIV:0\n",
      "0\n",
      "you need to be admitted\n"
     ]
    }
   ],
   "source": [
    "print(\"Please enter your details:\")\n",
    "print(\"Yes means:1   and No means :0\")\n",
    "age=int(input(\"Enter your age:\"))\n",
    "wt=int(input(\"Enter yor weight:\"))\n",
    "s1=int(input(\"severe_cough(1/0)\"))\n",
    "s2=int(input(\"Chest_pain(1/0)\"))\n",
    "s3=int(input(\"Fever(1/0)\"))\n",
    "if(s1&~s2&~s3):\n",
    "    xxx=s1  #xxx is med\n",
    "elif(~s1&s2&~s3):\n",
    "    xxx=s2\n",
    "elif(~s1&~s2&s3):\n",
    "    xxx=s3\n",
    "else:\n",
    "    print(\"You want to take tests:sputum test,chest x-ray,genexpert test and culture test \")\n",
    "    xxx=0\n",
    "print(\"====================================================================================\")\n",
    "print(\"Enter the test results:\")\n",
    "\n",
    "t1=int(input(\"sputem test:\"))\n",
    "t2=int(input(\"chest x-ray:\"))               #test1=starting,test2=2nd month,test3=\n",
    "t3=int(input(\"genes:\"))\n",
    "t4=int(input(\"Is cavitation formed?\"))\n",
    "cd=int(input(\"Is cd4+ counts less than 100?\"))\n",
    "hiv=int(input(\"HIV:\"))\n",
    "if(t1&~t2&~t3):\n",
    "    st=t1  #xxx is med\n",
    "elif(~t1&t2&~t3):\n",
    "    st=t2\n",
    "elif(~t1&~t2&t3):\n",
    "    st=t3\n",
    "else:\n",
    "    st=0\n",
    "print(st)\n",
    "if(st):\n",
    "    print(\"you need not be admitted\")\n",
    "    plan=1\n",
    "else:\n",
    "    print(\"you need to be admitted\")\n",
    "    plan=0"
   ]
  },
  {
   "cell_type": "code",
   "execution_count": 5,
   "metadata": {},
   "outputs": [
    {
     "name": "stdout",
     "output_type": "stream",
     "text": [
      "The following list of drugs you need to take for two weaks:\n"
     ]
    },
    {
     "data": {
      "text/html": [
       "<div>\n",
       "<style>\n",
       "    .dataframe thead tr:only-child th {\n",
       "        text-align: right;\n",
       "    }\n",
       "\n",
       "    .dataframe thead th {\n",
       "        text-align: left;\n",
       "    }\n",
       "\n",
       "    .dataframe tbody tr th {\n",
       "        vertical-align: top;\n",
       "    }\n",
       "</style>\n",
       "<table border=\"1\" class=\"dataframe\">\n",
       "  <thead>\n",
       "    <tr style=\"text-align: right;\">\n",
       "      <th></th>\n",
       "      <th>Anti-TB Drugs</th>\n",
       "      <th>less</th>\n",
       "      <th>grtr</th>\n",
       "      <th>inter</th>\n",
       "    </tr>\n",
       "  </thead>\n",
       "  <tbody>\n",
       "    <tr>\n",
       "      <th>0</th>\n",
       "      <td>Isoniazid</td>\n",
       "      <td>300</td>\n",
       "      <td>300</td>\n",
       "      <td>300</td>\n",
       "    </tr>\n",
       "    <tr>\n",
       "      <th>1</th>\n",
       "      <td>Rifampicin</td>\n",
       "      <td>300</td>\n",
       "      <td>300</td>\n",
       "      <td>300</td>\n",
       "    </tr>\n",
       "    <tr>\n",
       "      <th>2</th>\n",
       "      <td>Pyrazinamide</td>\n",
       "      <td>1000</td>\n",
       "      <td>1500</td>\n",
       "      <td>1500</td>\n",
       "    </tr>\n",
       "    <tr>\n",
       "      <th>3</th>\n",
       "      <td>Ethambutol</td>\n",
       "      <td>800</td>\n",
       "      <td>825</td>\n",
       "      <td>1100</td>\n",
       "    </tr>\n",
       "  </tbody>\n",
       "</table>\n",
       "</div>"
      ],
      "text/plain": [
       "   Anti-TB Drugs  less  grtr  inter\n",
       "0     Isoniazid    300   300    300\n",
       "1    Rifampicin    300   300    300\n",
       "2  Pyrazinamide   1000  1500   1500\n",
       "3    Ethambutol    800   825   1100"
      ]
     },
     "execution_count": 5,
     "metadata": {},
     "output_type": "execute_result"
    }
   ],
   "source": [
    "#File1\n",
    "import pandas as pd\n",
    "\n",
    "if(age<15&wt<40):\n",
    "    mm=\"child\"\n",
    "    df=pd.read_csv('Regimen 1\\childs.csv')\n",
    "else:\n",
    "    mm=\"adult\"\n",
    "    df=pd.read_csv('Regimen 1\\dult.csv')\n",
    "print(\"The following list of drugs you need to take for two weaks:\")\n",
    "df"
   ]
  },
  {
   "cell_type": "code",
   "execution_count": 20,
   "metadata": {
    "collapsed": true
   },
   "outputs": [],
   "source": [
    "#take test 2 for the completion of the second month end"
   ]
  },
  {
   "cell_type": "code",
   "execution_count": 6,
   "metadata": {},
   "outputs": [
    {
     "name": "stdout",
     "output_type": "stream",
     "text": [
      "Take the tests:culture,chest x-ray and sputum :\n",
      "Enter the results of the second test:\n",
      "Is culture positive:1\n",
      "Is cavitation formed:1\n",
      "Is sputum positive:1\n",
      "1c\n",
      "Regimen 1\\cont\\1c.csv\n",
      "  Anti-TB Drugs  child  adult\n",
      "0    Isoniazid     300    300\n",
      "1     Rifampin     600    600\n",
      "Isoniazid :300mg\n"
     ]
    }
   ],
   "source": [
    "\n",
    "print(\"Take the tests:culture,chest x-ray and sputum :\")\n",
    "print(\"Enter the results of the second test:\")\n",
    "cul=int(input(\"Is culture positive:\"))\n",
    "tt4=int(input(\"Is cavitation formed:\"))\n",
    "sput=int(input(\"Is sputum positive:\"))\n",
    "if(t4):\n",
    "    reg=\"Regimen 4\"\n",
    "    if(hiv):\n",
    "        you=\"4a\"\n",
    "    else:\n",
    "        you=\"4b\"\n",
    "if(hiv):\n",
    "    you=\"1a\"\n",
    "if(cd&~hiv):\n",
    "    you=\"1b\"\n",
    "if(cul):\n",
    "    you=\"1c\"\n",
    "print(you)\n",
    "if(you is \"1a\" or you is \"1b\" or you is \"1c\"):\n",
    "    reg=\"Regimen 1\"\n",
    "you=you+\".csv\"\n",
    "dest=reg+\"\\\\cont\\\\\"+you\n",
    "print(dest)\n",
    "df1=pd.read_csv(dest,encoding = 'ISO-8859-1')\n",
    "print(df1)\n",
    "st1=df1[\"Anti-TB Drugs\"]\n",
    "dos=df1[mm]\n",
    "medi=str(st1[0])+\":\"+str(dos[0])+\"mg\"\n",
    "print(medi)"
   ]
  },
  {
   "cell_type": "code",
   "execution_count": 10,
   "metadata": {
    "collapsed": true
   },
   "outputs": [],
   "source": [
    "import pandas as pd\n",
    "myd=pd.read_csv(r'total\\NN32.csv', encoding = 'ISO-8859-1')"
   ]
  },
  {
   "cell_type": "code",
   "execution_count": 11,
   "metadata": {},
   "outputs": [
    {
     "data": {
      "text/html": [
       "<div>\n",
       "<style>\n",
       "    .dataframe thead tr:only-child th {\n",
       "        text-align: right;\n",
       "    }\n",
       "\n",
       "    .dataframe thead th {\n",
       "        text-align: left;\n",
       "    }\n",
       "\n",
       "    .dataframe tbody tr th {\n",
       "        vertical-align: top;\n",
       "    }\n",
       "</style>\n",
       "<table border=\"1\" class=\"dataframe\">\n",
       "  <thead>\n",
       "    <tr style=\"text-align: right;\">\n",
       "      <th></th>\n",
       "      <th>S/N</th>\n",
       "      <th>Manufacturer</th>\n",
       "      <th>Name</th>\n",
       "      <th>Type</th>\n",
       "      <th>Unit(Dose)</th>\n",
       "      <th>Constituents/Unit</th>\n",
       "      <th>Package unit</th>\n",
       "      <th>Price(In Rs.)</th>\n",
       "      <th>Price/Unit (In Rs.)</th>\n",
       "    </tr>\n",
       "  </thead>\n",
       "  <tbody>\n",
       "    <tr>\n",
       "      <th>0</th>\n",
       "      <td>1</td>\n",
       "      <td>Merind Ltd (Wockhardt Ltd)</td>\n",
       "      <td>Deca Forte (1 mg)</td>\n",
       "      <td>Tablet</td>\n",
       "      <td>1 Tablet</td>\n",
       "      <td>Dexamethasone-1 mg</td>\n",
       "      <td>10 Tablet</td>\n",
       "      <td>3.95</td>\n",
       "      <td>0.40</td>\n",
       "    </tr>\n",
       "    <tr>\n",
       "      <th>1</th>\n",
       "      <td>2</td>\n",
       "      <td>Pfizer Limited (Pharmacia India Pvt Ltd)</td>\n",
       "      <td>Betacortril Forte (1 mg)</td>\n",
       "      <td>Tablet</td>\n",
       "      <td>1 Tablet</td>\n",
       "      <td>Betamethasone-1 mg</td>\n",
       "      <td>10 Tablet</td>\n",
       "      <td>4.72</td>\n",
       "      <td>0.47</td>\n",
       "    </tr>\n",
       "    <tr>\n",
       "      <th>2</th>\n",
       "      <td>3</td>\n",
       "      <td>Glaxo Smithkline Pharmaceuticals Ltd.</td>\n",
       "      <td>Betnecip FC (1 mg)</td>\n",
       "      <td>Tablet</td>\n",
       "      <td>1 Tablet</td>\n",
       "      <td>Betamethasone-1 mg</td>\n",
       "      <td>10 Tablet</td>\n",
       "      <td>5.10</td>\n",
       "      <td>0.51</td>\n",
       "    </tr>\n",
       "    <tr>\n",
       "      <th>3</th>\n",
       "      <td>4</td>\n",
       "      <td>Glaxo Smithkline Pharmaceuticals Ltd.</td>\n",
       "      <td>Betnelan FC (1 mg)</td>\n",
       "      <td>Tablet</td>\n",
       "      <td>1 Tablet</td>\n",
       "      <td>Betamethasone-1 mg</td>\n",
       "      <td>10 Tablet</td>\n",
       "      <td>5.10</td>\n",
       "      <td>0.51</td>\n",
       "    </tr>\n",
       "    <tr>\n",
       "      <th>4</th>\n",
       "      <td>5</td>\n",
       "      <td>Ind-Swift Limited</td>\n",
       "      <td>Stemin Forte (1 mg)</td>\n",
       "      <td>Tablet</td>\n",
       "      <td>1 Tablet</td>\n",
       "      <td>Betamethasone-1 mg</td>\n",
       "      <td>10 Tablet</td>\n",
       "      <td>5.10</td>\n",
       "      <td>0.51</td>\n",
       "    </tr>\n",
       "  </tbody>\n",
       "</table>\n",
       "</div>"
      ],
      "text/plain": [
       "   S/N                              Manufacturer                      Name  \\\n",
       "0    1                Merind Ltd (Wockhardt Ltd)         Deca Forte (1 mg)   \n",
       "1    2  Pfizer Limited (Pharmacia India Pvt Ltd)  Betacortril Forte (1 mg)   \n",
       "2    3     Glaxo Smithkline Pharmaceuticals Ltd.        Betnecip FC (1 mg)   \n",
       "3    4     Glaxo Smithkline Pharmaceuticals Ltd.        Betnelan FC (1 mg)   \n",
       "4    5                         Ind-Swift Limited       Stemin Forte (1 mg)   \n",
       "\n",
       "         Type Unit(Dose)   Constituents/Unit Package unit  Price(In Rs.)  \\\n",
       "0  Tablet       1 Tablet  Dexamethasone-1 mg    10 Tablet           3.95   \n",
       "1  Tablet       1 Tablet  Betamethasone-1 mg    10 Tablet           4.72   \n",
       "2  Tablet       1 Tablet  Betamethasone-1 mg    10 Tablet           5.10   \n",
       "3  Tablet       1 Tablet  Betamethasone-1 mg    10 Tablet           5.10   \n",
       "4  Tablet       1 Tablet  Betamethasone-1 mg    10 Tablet           5.10   \n",
       "\n",
       "   Price/Unit (In Rs.)  \n",
       "0                 0.40  \n",
       "1                 0.47  \n",
       "2                 0.51  \n",
       "3                 0.51  \n",
       "4                 0.51  "
      ]
     },
     "execution_count": 11,
     "metadata": {},
     "output_type": "execute_result"
    }
   ],
   "source": [
    "myd.head()"
   ]
  },
  {
   "cell_type": "code",
   "execution_count": null,
   "metadata": {
    "collapsed": true
   },
   "outputs": [],
   "source": []
  },
  {
   "cell_type": "code",
   "execution_count": null,
   "metadata": {
    "collapsed": true
   },
   "outputs": [],
   "source": []
  }
 ],
 "metadata": {
  "kernelspec": {
   "display_name": "Python 3",
   "language": "python",
   "name": "python3"
  },
  "language_info": {
   "codemirror_mode": {
    "name": "ipython",
    "version": 3
   },
   "file_extension": ".py",
   "mimetype": "text/x-python",
   "name": "python",
   "nbconvert_exporter": "python",
   "pygments_lexer": "ipython3",
   "version": "3.6.3"
  }
 },
 "nbformat": 4,
 "nbformat_minor": 2
}
