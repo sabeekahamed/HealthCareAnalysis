{
 "cells": [
  {
   "cell_type": "code",
   "execution_count": 1,
   "metadata": {
    "collapsed": true
   },
   "outputs": [],
   "source": [
    "import pandas as pd\n",
    "import numpy as np\n",
    "lt1=[]\n",
    "lt2=[]\n",
    "lt3=[]\n",
    "lt4=[]\n",
    "lt5=[]\n",
    "lt6=[]\n",
    "lt7=[]\n",
    "lt8=[]\n",
    "lt1=np.random.randint(2, size=215)\n",
    "lt2=np.random.randint(2, size=215)\n",
    "lt3=np.random.randint(2, size=215)\n",
    "lt4=np.random.randint(2, size=215)\n",
    "lt5=np.random.randint(2, size=215)\n",
    "lt9=np.random.randint(1,4, size=215)\n",
    "lt6=[]\n",
    "for i in range(1,216):\n",
    "    lt6.append(i)\n",
    "lt7=np.random.randint(2, size=215)\n",
    "lt8=np.random.randint(2, size=215)\n",
    "df=pd.DataFrame({'SN':lt6,'sputum':lt1,'x-ray':lt2,'genes':lt3,'cavitation':lt4,'hiv':lt5,'cd4+':lt7,'cured':lt8,'med':lt9})\n",
    "df\n",
    "\n",
    "df.to_csv(\"SNS1733.csv\",index=False)"
   ]
  },
  {
   "cell_type": "code",
   "execution_count": 3,
   "metadata": {
    "collapsed": true
   },
   "outputs": [],
   "source": [
    "lt9=np.random.randint(1,4, size=215)"
   ]
  },
  {
   "cell_type": "code",
   "execution_count": null,
   "metadata": {
    "collapsed": true
   },
   "outputs": [],
   "source": []
  },
  {
   "cell_type": "code",
   "execution_count": null,
   "metadata": {
    "collapsed": true
   },
   "outputs": [],
   "source": []
  }
 ],
 "metadata": {
  "kernelspec": {
   "display_name": "Python 3",
   "language": "python",
   "name": "python3"
  },
  "language_info": {
   "codemirror_mode": {
    "name": "ipython",
    "version": 3
   },
   "file_extension": ".py",
   "mimetype": "text/x-python",
   "name": "python",
   "nbconvert_exporter": "python",
   "pygments_lexer": "ipython3",
   "version": "3.6.3"
  }
 },
 "nbformat": 4,
 "nbformat_minor": 2
}
