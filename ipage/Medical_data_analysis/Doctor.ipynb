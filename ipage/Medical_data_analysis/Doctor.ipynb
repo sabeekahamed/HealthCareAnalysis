{
 "cells": [
  {
   "cell_type": "code",
   "execution_count": 8,
   "metadata": {
    "collapsed": true
   },
   "outputs": [],
   "source": [
    "def startDoctor():\n",
    "    print(\"Welcome Doctor:\"+pf.Name)\n",
    "    print(\"The patients handled by the doctor:\"+pf[['pat_id']])\n",
    "import pandas as pd\n",
    "df=pd.read_csv(\"Doctr.csv\")\n",
    "df.head()\n",
    "s=input(\"Enter Doctor Id:\")\n",
    "pf=df[df[\"Doctor_Id\"]==s]\n",
    "if(pf.empty):\n",
    "    print(\"Not A Registered Doctor\")\n",
    "else:\n"
   ]
  },
  {
   "cell_type": "code",
   "execution_count": 9,
   "metadata": {},
   "outputs": [
    {
     "data": {
      "text/html": [
       "<div>\n",
       "<style>\n",
       "    .dataframe thead tr:only-child th {\n",
       "        text-align: right;\n",
       "    }\n",
       "\n",
       "    .dataframe thead th {\n",
       "        text-align: left;\n",
       "    }\n",
       "\n",
       "    .dataframe tbody tr th {\n",
       "        vertical-align: top;\n",
       "    }\n",
       "</style>\n",
       "<table border=\"1\" class=\"dataframe\">\n",
       "  <thead>\n",
       "    <tr style=\"text-align: right;\">\n",
       "      <th></th>\n",
       "      <th>Doctor_Id</th>\n",
       "      <th>Name</th>\n",
       "      <th>Clinic name</th>\n",
       "      <th>pat_id</th>\n",
       "    </tr>\n",
       "  </thead>\n",
       "  <tbody>\n",
       "    <tr>\n",
       "      <th>0</th>\n",
       "      <td>100A</td>\n",
       "      <td>A</td>\n",
       "      <td>ZZZZA</td>\n",
       "      <td>100000,10000A,10000B</td>\n",
       "    </tr>\n",
       "    <tr>\n",
       "      <th>1</th>\n",
       "      <td>100B</td>\n",
       "      <td>B</td>\n",
       "      <td>ZZZZB</td>\n",
       "      <td>100001</td>\n",
       "    </tr>\n",
       "    <tr>\n",
       "      <th>2</th>\n",
       "      <td>100C</td>\n",
       "      <td>C</td>\n",
       "      <td>ZZZZC</td>\n",
       "      <td>100002</td>\n",
       "    </tr>\n",
       "    <tr>\n",
       "      <th>3</th>\n",
       "      <td>100D</td>\n",
       "      <td>D</td>\n",
       "      <td>ZZZZD</td>\n",
       "      <td>100003</td>\n",
       "    </tr>\n",
       "    <tr>\n",
       "      <th>4</th>\n",
       "      <td>100E</td>\n",
       "      <td>E</td>\n",
       "      <td>ZZZZE</td>\n",
       "      <td>100004</td>\n",
       "    </tr>\n",
       "  </tbody>\n",
       "</table>\n",
       "</div>"
      ],
      "text/plain": [
       "  Doctor_Id Name Clinic name                pat_id\n",
       "0      100A    A       ZZZZA  100000,10000A,10000B\n",
       "1      100B    B       ZZZZB                100001\n",
       "2      100C    C       ZZZZC                100002\n",
       "3      100D    D       ZZZZD                100003\n",
       "4      100E    E       ZZZZE                100004"
      ]
     },
     "execution_count": 9,
     "metadata": {},
     "output_type": "execute_result"
    }
   ],
   "source": []
  },
  {
   "cell_type": "code",
   "execution_count": 18,
   "metadata": {},
   "outputs": [
    {
     "name": "stdout",
     "output_type": "stream",
     "text": [
      "Enter Doctor Id:100A\n",
      "0    Welcome Doctor:A\n",
      "Name: Name, dtype: object\n",
      "                                              pat_id\n",
      "0  The patients handled by the doctor:100000,1000...\n"
     ]
    }
   ],
   "source": []
  },
  {
   "cell_type": "code",
   "execution_count": 17,
   "metadata": {
    "collapsed": true
   },
   "outputs": [],
   "source": [
    "def startDoctor():\n",
    "    print(\"Welcome Doctor:\"+pf.Name)\n",
    "    print(\"The patients handled by the doctor:\"+pf[['pat_id']])"
   ]
  },
  {
   "cell_type": "code",
   "execution_count": null,
   "metadata": {
    "collapsed": true
   },
   "outputs": [],
   "source": []
  },
  {
   "cell_type": "code",
   "execution_count": null,
   "metadata": {
    "collapsed": true
   },
   "outputs": [],
   "source": []
  }
 ],
 "metadata": {
  "celltoolbar": "Edit Metadata",
  "kernelspec": {
   "display_name": "Python 3",
   "language": "python",
   "name": "python3"
  },
  "language_info": {
   "codemirror_mode": {
    "name": "ipython",
    "version": 3
   },
   "file_extension": ".py",
   "mimetype": "text/x-python",
   "name": "python",
   "nbconvert_exporter": "python",
   "pygments_lexer": "ipython3",
   "version": "3.6.3"
  }
 },
 "nbformat": 4,
 "nbformat_minor": 2
}
