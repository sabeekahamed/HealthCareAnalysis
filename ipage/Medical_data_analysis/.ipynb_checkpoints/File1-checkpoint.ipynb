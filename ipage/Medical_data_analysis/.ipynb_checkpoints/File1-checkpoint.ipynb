{
 "cells": [
  {
   "cell_type": "code",
   "execution_count": 2,
   "metadata": {},
   "outputs": [
    {
     "ename": "SyntaxError",
     "evalue": "invalid syntax (<ipython-input-2-c71a4380ccd8>, line 8)",
     "output_type": "error",
     "traceback": [
      "\u001b[1;36m  File \u001b[1;32m\"<ipython-input-2-c71a4380ccd8>\"\u001b[1;36m, line \u001b[1;32m8\u001b[0m\n\u001b[1;33m    elif(wt<)\u001b[0m\n\u001b[1;37m            ^\u001b[0m\n\u001b[1;31mSyntaxError\u001b[0m\u001b[1;31m:\u001b[0m invalid syntax\n"
     ]
    }
   ],
   "source": [
    "age=int(input(\"Enter age:\"))\n",
    "wt=int(input(\"Enter weight:\"))\n",
    "import pandas as pd\n",
    "\n",
    "if(age<15&wt<40):\n",
    "    mm=\"child\"\n",
    "    df=pd.read_csv('Regimen 1\\childs.csv')\n",
    "#elif(wt<)\n",
    "else:\n",
    "    mm=\"adult\"\n",
    "    df=pd.read_csv('Regimen 1\\dult.csv')\n",
    "print(\"The following list of drugs you need to take for two weaks:\")\n",
    "df"
   ]
  },
  {
   "cell_type": "code",
   "execution_count": null,
   "metadata": {
    "collapsed": true
   },
   "outputs": [],
   "source": []
  }
 ],
 "metadata": {
  "kernelspec": {
   "display_name": "Python 3",
   "language": "python",
   "name": "python3"
  },
  "language_info": {
   "codemirror_mode": {
    "name": "ipython",
    "version": 3
   },
   "file_extension": ".py",
   "mimetype": "text/x-python",
   "name": "python",
   "nbconvert_exporter": "python",
   "pygments_lexer": "ipython3",
   "version": "3.6.3"
  }
 },
 "nbformat": 4,
 "nbformat_minor": 2
}
