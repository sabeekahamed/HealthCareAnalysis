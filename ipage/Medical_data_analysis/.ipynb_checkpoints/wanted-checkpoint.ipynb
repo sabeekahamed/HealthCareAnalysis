{
 "cells": [
  {
   "cell_type": "code",
   "execution_count": 1,
   "metadata": {},
   "outputs": [
    {
     "name": "stdout",
     "output_type": "stream",
     "text": [
      "[1]\n",
      "Regimen 1\n",
      "Regimen 1\\dult.csv\n",
      "The following list of drugs you need to take for two weaks:\n"
     ]
    },
    {
     "data": {
      "text/html": [
       "<div>\n",
       "<style>\n",
       "    .dataframe thead tr:only-child th {\n",
       "        text-align: right;\n",
       "    }\n",
       "\n",
       "    .dataframe thead th {\n",
       "        text-align: left;\n",
       "    }\n",
       "\n",
       "    .dataframe tbody tr th {\n",
       "        vertical-align: top;\n",
       "    }\n",
       "</style>\n",
       "<table border=\"1\" class=\"dataframe\">\n",
       "  <thead>\n",
       "    <tr style=\"text-align: right;\">\n",
       "      <th></th>\n",
       "      <th>Anti-TB Drugs</th>\n",
       "      <th>less</th>\n",
       "      <th>grtr</th>\n",
       "      <th>inter</th>\n",
       "    </tr>\n",
       "  </thead>\n",
       "  <tbody>\n",
       "    <tr>\n",
       "      <th>0</th>\n",
       "      <td>Isoniazid</td>\n",
       "      <td>300</td>\n",
       "      <td>300</td>\n",
       "      <td>300</td>\n",
       "    </tr>\n",
       "    <tr>\n",
       "      <th>1</th>\n",
       "      <td>Rifampicin</td>\n",
       "      <td>300</td>\n",
       "      <td>300</td>\n",
       "      <td>300</td>\n",
       "    </tr>\n",
       "    <tr>\n",
       "      <th>2</th>\n",
       "      <td>Pyrazinamide</td>\n",
       "      <td>1000</td>\n",
       "      <td>1500</td>\n",
       "      <td>1500</td>\n",
       "    </tr>\n",
       "    <tr>\n",
       "      <th>3</th>\n",
       "      <td>Ethambutol</td>\n",
       "      <td>800</td>\n",
       "      <td>825</td>\n",
       "      <td>1100</td>\n",
       "    </tr>\n",
       "  </tbody>\n",
       "</table>\n",
       "</div>"
      ],
      "text/plain": [
       "   Anti-TB Drugs  less  grtr  inter\n",
       "0     Isoniazid    300   300    300\n",
       "1    Rifampicin    300   300    300\n",
       "2  Pyrazinamide   1000  1500   1500\n",
       "3    Ethambutol    800   825   1100"
      ]
     },
     "execution_count": 1,
     "metadata": {},
     "output_type": "execute_result"
    }
   ],
   "source": [
    "import pandas as pd\n",
    "import numpy as np\n",
    "from sklearn import linear_model\n",
    "from sklearn import tree\n",
    "pf=pd.read_csv('Result.csv')\n",
    "pf=pf[pf.cured==1]\n",
    "kf=pf\n",
    "labels = np.array(pf['regimen'])\n",
    "pf=pf.drop('regimen',axis=1)\n",
    "pf=pf.drop('id',axis=1)\n",
    "pf=pf.drop('cured',axis=1)\n",
    "pf_list=list(pf.columns)\n",
    "ttf=np.array(pf)\n",
    "from sklearn.model_selection import train_test_split\n",
    "train_df, test_df, train_labels, test_labels = train_test_split(ttf, labels, test_size = 0.25, random_state = 42)\n",
    "predict=tree.DecisionTreeClassifier()\n",
    "predict.fit(train_df,train_labels)\n",
    "pred=predict.predict([[0,1,1,0,1,0]])\n",
    "print(pred)\n",
    "age=54\n",
    "st='Regimen '+str(int(pred))\n",
    "print(st)\n",
    "wt=43\n",
    "if(age<15&wt<40):\n",
    "    mm=\"child\"\n",
    "else:\n",
    "    mm=\"dult\"\n",
    "dest=st+'\\\\'+mm+'.csv'\n",
    "print(dest)\n",
    "df=pd.read_csv(dest,encoding = 'ISO-8859-1')\n",
    "print(\"The following list of drugs you need to take for two weaks:\")\n",
    "df"
   ]
  },
  {
   "cell_type": "code",
   "execution_count": 2,
   "metadata": {},
   "outputs": [
    {
     "data": {
      "text/plain": [
       "'Isoniazid : 300mg+Rifampicin : 300mg+Pyrazinamide : 1500mg+Ethambutol : 1100mg'"
      ]
     },
     "execution_count": 2,
     "metadata": {},
     "output_type": "execute_result"
    }
   ],
   "source": [
    "if age<40:\n",
    "    tmp='less'\n",
    "elif age<60:\n",
    "    tmp='inter'\n",
    "else:\n",
    "    tmp='grtr'\n",
    "tmp\n",
    "df=df[['Anti-TB Drugs',tmp]]\n",
    "df\n",
    "po=''\n",
    "k=df[tmp]\n",
    "l=0\n",
    "for i in df['Anti-TB Drugs']:\n",
    "    po=po+str(i)+': '+str(k[l])+'mg+'\n",
    "    l=l+1\n",
    "po=po[0:-1]\n",
    "po"
   ]
  },
  {
   "cell_type": "code",
   "execution_count": 5,
   "metadata": {},
   "outputs": [
    {
     "data": {
      "text/plain": [
       "['Isoniazid : 300mg',\n",
       " 'Rifampicin : 300mg',\n",
       " 'Pyrazinamide : 1500mg',\n",
       " 'Ethambutol : 1100mg']"
      ]
     },
     "execution_count": 5,
     "metadata": {},
     "output_type": "execute_result"
    }
   ],
   "source": [
    "pf=pd.read_csv(\"Mainpage/LastUpdate.csv\",encoding = 'ISO-8859-1')\n",
    "km=po.split('+')\n",
    "km"
   ]
  },
  {
   "cell_type": "code",
   "execution_count": 50,
   "metadata": {},
   "outputs": [
    {
     "data": {
      "text/html": [
       "<div>\n",
       "<style>\n",
       "    .dataframe thead tr:only-child th {\n",
       "        text-align: right;\n",
       "    }\n",
       "\n",
       "    .dataframe thead th {\n",
       "        text-align: left;\n",
       "    }\n",
       "\n",
       "    .dataframe tbody tr th {\n",
       "        vertical-align: top;\n",
       "    }\n",
       "</style>\n",
       "<table border=\"1\" class=\"dataframe\">\n",
       "  <thead>\n",
       "    <tr style=\"text-align: right;\">\n",
       "      <th></th>\n",
       "      <th>S/N</th>\n",
       "      <th>Manufacturer</th>\n",
       "      <th>Name</th>\n",
       "      <th>Type</th>\n",
       "      <th>Unit(Dose)</th>\n",
       "      <th>Constituents/Unit</th>\n",
       "      <th>Package unit</th>\n",
       "      <th>Price(In Rs.)</th>\n",
       "      <th>Price/Unit (In Rs.)</th>\n",
       "    </tr>\n",
       "  </thead>\n",
       "  <tbody>\n",
       "    <tr>\n",
       "      <th>0</th>\n",
       "      <td>1</td>\n",
       "      <td>Concept Pharmaceuticals Ltd.</td>\n",
       "      <td>Ripe (Kit)</td>\n",
       "      <td>Kit</td>\n",
       "      <td>1 Kit</td>\n",
       "      <td>Pyrazinamide-1500 mg+Pyridoxine-10 mg+Isoniazi...</td>\n",
       "      <td>NaN</td>\n",
       "      <td>11.5</td>\n",
       "      <td>11.5</td>\n",
       "    </tr>\n",
       "    <tr>\n",
       "      <th>1</th>\n",
       "      <td>2</td>\n",
       "      <td>Panjon Limited</td>\n",
       "      <td>Becox Forte (Kit)</td>\n",
       "      <td>Kit</td>\n",
       "      <td>1 Kit</td>\n",
       "      <td>Pyrazinamide-1500 mg+Pyridoxine-10 mg+Isoniazi...</td>\n",
       "      <td>NaN</td>\n",
       "      <td>19.4</td>\n",
       "      <td>19.4</td>\n",
       "    </tr>\n",
       "    <tr>\n",
       "      <th>2</th>\n",
       "      <td>3</td>\n",
       "      <td>Radicura Pharmaceutical Pvt. Ltd.</td>\n",
       "      <td>Rifaplus 4 (Kit)</td>\n",
       "      <td>Kit</td>\n",
       "      <td>1 Kit</td>\n",
       "      <td>Pyrazinamide-1500 mg+Isoniazid-300 mg+Pyridoxi...</td>\n",
       "      <td>NaN</td>\n",
       "      <td>252.0</td>\n",
       "      <td>252.0</td>\n",
       "    </tr>\n",
       "  </tbody>\n",
       "</table>\n",
       "</div>"
      ],
      "text/plain": [
       "   S/N                       Manufacturer               Name    Type  \\\n",
       "0    1       Concept Pharmaceuticals Ltd.         Ripe (Kit)  Kit      \n",
       "1    2                     Panjon Limited  Becox Forte (Kit)  Kit      \n",
       "2    3  Radicura Pharmaceutical Pvt. Ltd.   Rifaplus 4 (Kit)  Kit      \n",
       "\n",
       "  Unit(Dose)                                  Constituents/Unit  Package unit  \\\n",
       "0      1 Kit  Pyrazinamide-1500 mg+Pyridoxine-10 mg+Isoniazi...           NaN   \n",
       "1      1 Kit  Pyrazinamide-1500 mg+Pyridoxine-10 mg+Isoniazi...           NaN   \n",
       "2      1 Kit  Pyrazinamide-1500 mg+Isoniazid-300 mg+Pyridoxi...           NaN   \n",
       "\n",
       "   Price(In Rs.)  Price/Unit (In Rs.)  \n",
       "0           11.5                 11.5  \n",
       "1           19.4                 19.4  \n",
       "2          252.0                252.0  "
      ]
     },
     "execution_count": 50,
     "metadata": {},
     "output_type": "execute_result"
    }
   ],
   "source": [
    "lt=pf[pf['Generic / Quantity']==po]\n",
    "ae=lt['S/N']-1\n",
    "wt='total\\\\SN'+str((int(ae)))+'.csv'\n",
    "pm=pd.read_csv(wt,encoding = 'ISO-8859-1',skip_blank_lines=True)\n",
    "wtw='total\\\\SNS'+str((int(ae)))+'.csv'\n",
    "pm1=pd.read_csv(wtw,encoding = 'ISO-8859-1',skip_blank_lines=True)\n",
    "pm1=pm1[pm1['cured']==1]\n",
    "pm1=pm1.drop('SN',axis=1)\n",
    "pm1=pm1.drop('cured',axis=1)\n",
    "labels = np.array(pm1['med'])\n",
    "pm1=pm1.drop('med',axis=1)\n",
    "\n",
    "\n",
    "pm1_list=list(pm1.columns)\n",
    "ttf=np.array(pm1)\n",
    "from sklearn.model_selection import train_test_split\n",
    "train_df, test_df, train_labels, test_labels = train_test_split(ttf, labels, test_size = 0.25, random_state = 42)\n",
    "predict=tree.DecisionTreeClassifier()\n",
    "predict.fit(train_df,train_labels)\n",
    "pred=predict.predict([[1,1,0,1,1,1]])\n",
    "pred\n",
    "pm"
   ]
  },
  {
   "cell_type": "code",
   "execution_count": 53,
   "metadata": {},
   "outputs": [
    {
     "name": "stdout",
     "output_type": "stream",
     "text": [
      "2    you need to buy medicine name:Rifaplus 4 (Kit)...\n",
      "Name: Name, dtype: object\n"
     ]
    }
   ],
   "source": [
    "sp=pm[pm['S/N']==int(pred)]\n",
    "print(\"you need to buy medicine name:\"+sp['Name']+\" costs \"+str(sp['Price(In Rs.)'])+'rs')"
   ]
  },
  {
   "cell_type": "code",
   "execution_count": null,
   "metadata": {
    "collapsed": true
   },
   "outputs": [],
   "source": []
  }
 ],
 "metadata": {
  "kernelspec": {
   "display_name": "Python 3",
   "language": "python",
   "name": "python3"
  },
  "language_info": {
   "codemirror_mode": {
    "name": "ipython",
    "version": 3
   },
   "file_extension": ".py",
   "mimetype": "text/x-python",
   "name": "python",
   "nbconvert_exporter": "python",
   "pygments_lexer": "ipython3",
   "version": "3.6.3"
  }
 },
 "nbformat": 4,
 "nbformat_minor": 2
}
