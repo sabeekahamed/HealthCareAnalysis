{
 "cells": [
  {
   "cell_type": "code",
   "execution_count": 3,
   "metadata": {},
   "outputs": [
    {
     "name": "stdout",
     "output_type": "stream",
     "text": [
      "Combining multiple csv files into 1\n"
     ]
    }
   ],
   "source": [
    "import glob,os\n",
    "import csv\n",
    "\n",
    "def Combine_multiple_csv_files_thatContainsKeywordInTheirNames_into_one_csv_file(folder_path,keyword='file'):\n",
    "    #takes header only from 1st csv, all other csv headers are skipped and data is appened to final csv\n",
    "\n",
    "    fileNames = glob.glob(folder_path + keyword + \"*\"+\".csv\")  # fileNames INCLUDES FOLDER_PATH TOO\n",
    "    with open(folder_path+\"Combined_csv.csv\", \"w\", newline='') as fout:\n",
    "        print('Combining multiple csv files into 1')\n",
    "        csv_write_file = csv.writer(fout, delimiter=',')\n",
    "        # a.writerows(op)\n",
    "        with open(fileNames[0], mode='rt')  as read_file:  # utf8\n",
    "            csv_read_file = csv.reader(read_file, delimiter=',')  # CSVREADER READS FILE AS 1 LIST PER ROW. SO WHEN WRITIN TO ANOTHER  CSV FILE WITH FUNCTION WRITEROWS, IT INTRODUCES ANOTHER NEW LINE '\\N' CHARACTER. SO TO AVOID DOUBLE NEWLINES , WE SET NEWLINE AS '' WHEN WE OPEN CSV WRITER OBJECT\n",
    "            csv_write_file.writerows(csv_read_file)\n",
    "\n",
    "        for num in range(1, len(fileNames)):\n",
    "            with open(fileNames[num], mode='rt')  as read_file:  # utf8\n",
    "                csv_read_file = csv.reader(read_file, delimiter=',')  # CSVREADER READS FILE AS 1 LIST PER ROW. SO WHEN WRITIN TO ANOTHER  CSV FILE WITH FUNCTION WRITEROWS, IT INTRODUCES ANOTHER NEW LINE '\\N' CHARACTER. SO TO AVOID DOUBLE NEWLINES , WE SET NEWLINE AS '' WHEN WE OPEN CSV WRITER OBJECT\n",
    "                next(csv_read_file) # ignore header\n",
    "                csv_write_file.writerows(csv_read_file)\n",
    "Combine_multiple_csv_files_thatContainsKeywordInTheirNames_into_one_csv_file(\"ForExample\\\\\",keyword='SN')"
   ]
  },
  {
   "cell_type": "code",
   "execution_count": null,
   "metadata": {
    "collapsed": true
   },
   "outputs": [],
   "source": []
  }
 ],
 "metadata": {
  "kernelspec": {
   "display_name": "Python 3",
   "language": "python",
   "name": "python3"
  },
  "language_info": {
   "codemirror_mode": {
    "name": "ipython",
    "version": 3
   },
   "file_extension": ".py",
   "mimetype": "text/x-python",
   "name": "python",
   "nbconvert_exporter": "python",
   "pygments_lexer": "ipython3",
   "version": "3.6.3"
  }
 },
 "nbformat": 4,
 "nbformat_minor": 2
}
