{
 "cells": [
  {
   "cell_type": "code",
   "execution_count": 13,
   "metadata": {},
   "outputs": [
    {
     "name": "stdout",
     "output_type": "stream",
     "text": [
      "Enter age:12\n",
      "Enter weight:67\n"
     ]
    },
    {
     "data": {
      "text/html": [
       "<div>\n",
       "<style>\n",
       "    .dataframe thead tr:only-child th {\n",
       "        text-align: right;\n",
       "    }\n",
       "\n",
       "    .dataframe thead th {\n",
       "        text-align: left;\n",
       "    }\n",
       "\n",
       "    .dataframe tbody tr th {\n",
       "        vertical-align: top;\n",
       "    }\n",
       "</style>\n",
       "<table border=\"1\" class=\"dataframe\">\n",
       "  <thead>\n",
       "    <tr style=\"text-align: right;\">\n",
       "      <th></th>\n",
       "      <th>Anti-TB Drugs</th>\n",
       "      <th>less</th>\n",
       "      <th>gt</th>\n",
       "      <th>inter</th>\n",
       "    </tr>\n",
       "  </thead>\n",
       "  <tbody>\n",
       "    <tr>\n",
       "      <th>0</th>\n",
       "      <td>Isoniazid</td>\n",
       "      <td>300</td>\n",
       "      <td>300</td>\n",
       "      <td>300</td>\n",
       "    </tr>\n",
       "    <tr>\n",
       "      <th>1</th>\n",
       "      <td>Rifampin</td>\n",
       "      <td>300</td>\n",
       "      <td>300</td>\n",
       "      <td>300</td>\n",
       "    </tr>\n",
       "    <tr>\n",
       "      <th>2</th>\n",
       "      <td>Pyrazinamide</td>\n",
       "      <td>1000</td>\n",
       "      <td>1500</td>\n",
       "      <td>2000</td>\n",
       "    </tr>\n",
       "    <tr>\n",
       "      <th>3</th>\n",
       "      <td>Ethambutol</td>\n",
       "      <td>800</td>\n",
       "      <td>1200</td>\n",
       "      <td>1600</td>\n",
       "    </tr>\n",
       "  </tbody>\n",
       "</table>\n",
       "</div>"
      ],
      "text/plain": [
       "   Anti-TB Drugs  less    gt  inter\n",
       "0     Isoniazid    300   300    300\n",
       "1      Rifampin    300   300    300\n",
       "2  Pyrazinamide   1000  1500   2000\n",
       "3    Ethambutol    800  1200   1600"
      ]
     },
     "execution_count": 13,
     "metadata": {},
     "output_type": "execute_result"
    }
   ],
   "source": [
    "age=int(input(\"Enter age:\"))\n",
    "wt=int(input(\"Enter weight:\"))\n",
    "import pandas as pd\n",
    "\n",
    "if(age<15 and wt<40):\n",
    "    mm=\"child\"\n",
    "    df=pd.read_csv('Regimen 1\\childs.csv',encoding = 'ISO-8859-1')    \n",
    "    df\n",
    "else:\n",
    "    mm=\"adult\"\n",
    "    if(wt<40):\n",
    "        param=\"less\"\n",
    "    elif(wt<55):\n",
    "        param=\"inter\"\n",
    "    else:\n",
    "        param=\"gt\"\n",
    "    df=pd.read_csv('Regimen 1\\dult.csv',encoding = 'ISO-8859-1')\n",
    "    ww=df[[\"Anti-TB Drugs\",param]]\n",
    "    ww\n",
    "df\n",
    "#print(\"The following list of drugs you need to take for two weaks:\")\n",
    "#medi=\"\"\n",
    "#for s in df[\"Anti-TB Drugs\"]:\n",
    " #   medi=medi+str(s)+\" \"+df[df[]]\n"
   ]
  },
  {
   "cell_type": "code",
   "execution_count": null,
   "metadata": {
    "collapsed": true
   },
   "outputs": [],
   "source": []
  }
 ],
 "metadata": {
  "kernelspec": {
   "display_name": "Python 3",
   "language": "python",
   "name": "python3"
  }
 },
 "nbformat": 4,
 "nbformat_minor": 2
}
